{
 "cells": [
  {
   "cell_type": "markdown",
   "metadata": {},
   "source": [
    "# Cleaning Cost Types\n",
    "***\n",
    "This notebook was created in an attempt to clean the JCCostType category field as it contains very messy data."
   ]
  },
  {
   "cell_type": "code",
   "execution_count": 1,
   "metadata": {},
   "outputs": [],
   "source": [
    "#Load the CSV and display a sample line\n",
    "\n",
    "import pandas as pd\n",
    "data=pd.read_csv(\"LowerEx.csv\")\n",
    "data.columns = ['Description', 'Count', 'Category']"
   ]
  },
  {
   "cell_type": "code",
   "execution_count": 2,
   "metadata": {},
   "outputs": [],
   "source": [
    "#Fill all null Category with 'N'\n",
    "\n",
    "data[['Category']] = data[['Category']].fillna('N')"
   ]
  },
  {
   "cell_type": "code",
   "execution_count": 3,
   "metadata": {},
   "outputs": [
    {
     "name": "stdout",
     "output_type": "stream",
     "text": [
      "Data is Clean\n"
     ]
    }
   ],
   "source": [
    "#Nested loops to assign the Category with the highest Count to all duplicate Description\n",
    "#Around 3600 lines in the CSV took 15 minutes on my 16\" Macbook Pro\n",
    "\n",
    "clean = pd.DataFrame(columns = ['Description', 'Category'])\n",
    "\n",
    "for index, rowi in data.iterrows():\n",
    "    search = rowi['Description']\n",
    "    maxcount = rowi['Count']\n",
    "    maxcat = rowi['Category']\n",
    "    \n",
    "    for jndex, rowj in data.iterrows():\n",
    "        if search == rowj['Description'] and maxcount < rowj['Count']:\n",
    "            maxcount = rowj['Count']\n",
    "            maxcat = rowj['Category']\n",
    "    clean = clean.append(pd.DataFrame({'Description':[search], 'Category':[maxcat]}), ignore_index=True)\n",
    "    \n",
    "clean = clean.drop_duplicates(subset ='Description')\n",
    "print('Data is Clean')    "
   ]
  },
  {
   "cell_type": "code",
   "execution_count": 4,
   "metadata": {},
   "outputs": [
    {
     "name": "stdout",
     "output_type": "stream",
     "text": [
      "OG Table\n",
      "               Description  Count Category\n",
      "0                    labor    901        L\n",
      "1                equipment    647        E\n",
      "2                    other    643        O\n",
      "3                 material    536        M\n",
      "4                materials    515        M\n",
      "...                    ...    ...      ...\n",
      "3095   billable - material      1        M\n",
      "3096  temp labor - laborer      1        S\n",
      "3097           commissions      1        M\n",
      "3098          job warranty      1        O\n",
      "3099         phone service      1        O\n",
      "\n",
      "[3100 rows x 3 columns]\n",
      "\n",
      "Clean Table\n",
      "               Description Category\n",
      "0                    labor        L\n",
      "1                equipment        E\n",
      "2                    other        O\n",
      "3                 material        M\n",
      "4                materials        M\n",
      "...                    ...      ...\n",
      "3094      building expense        O\n",
      "3095   billable - material        M\n",
      "3096  temp labor - laborer        S\n",
      "3098          job warranty        O\n",
      "3099         phone service        O\n",
      "\n",
      "[2664 rows x 2 columns]\n"
     ]
    }
   ],
   "source": [
    "#A quick check to verify table sizes and saving the clean data to a CSV\n",
    "\n",
    "print('OG Table')\n",
    "print(data)\n",
    "print()\n",
    "print('Clean Table')\n",
    "print(clean)\n",
    "clean.to_csv('LowerExClean.csv', index = False)"
   ]
  },
  {
   "cell_type": "code",
   "execution_count": 5,
   "metadata": {},
   "outputs": [
    {
     "name": "stdout",
     "output_type": "stream",
     "text": [
      "          Count\n",
      "Category       \n",
      "O          1247\n",
      "N           503\n",
      "E           222\n",
      "M           206\n",
      "L           194\n",
      "B           159\n",
      "S           129\n",
      "1             3\n",
      "              1\n"
     ]
    }
   ],
   "source": [
    "#The basic breakdown of Category distribution after cleaning\n",
    "\n",
    "stats = pd.DataFrame(clean.groupby('Category')['Description'].nunique())\n",
    "stats.columns = ['Count']\n",
    "print(stats.sort_values(by=['Count'], ascending=False))"
   ]
  },
  {
   "cell_type": "code",
   "execution_count": null,
   "metadata": {},
   "outputs": [],
   "source": []
  }
 ],
 "metadata": {
  "kernelspec": {
   "display_name": "Python 3",
   "language": "python",
   "name": "python3"
  },
  "language_info": {
   "codemirror_mode": {
    "name": "ipython",
    "version": 3
   },
   "file_extension": ".py",
   "mimetype": "text/x-python",
   "name": "python",
   "nbconvert_exporter": "python",
   "pygments_lexer": "ipython3",
   "version": "3.7.6"
  }
 },
 "nbformat": 4,
 "nbformat_minor": 4
}
